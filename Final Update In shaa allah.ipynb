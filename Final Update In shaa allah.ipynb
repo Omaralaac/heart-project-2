{
 "cells": [
  {
   "cell_type": "code",
   "execution_count": 99,
   "id": "89e2ab9b",
   "metadata": {},
   "outputs": [],
   "source": [
    "import joblib\n",
    "import seaborn as sns\n",
    "import numpy as np\n",
    "import pandas as pd\n",
    "import statsmodels.api as sm\n",
    "import scipy.stats as stats\n",
    "import scipy.stats as st \n",
    "from sklearn.ensemble import ExtraTreesClassifier\n",
    "from sklearn.feature_selection import chi2\n",
    "from sklearn.model_selection import train_test_split, GridSearchCV\n",
    "from sklearn.preprocessing import LabelEncoder, StandardScaler\n",
    "from sklearn.linear_model import LogisticRegression\n",
    "from sklearn.metrics import f1_score ,accuracy_score, classification_report, confusion_matrix, mean_squared_error,precision_score, recall_score, multilabel_confusion_matrix, roc_auc_score ,roc_curve\n",
    "import matplotlib.pyplot as plt\n",
    "from sklearn.ensemble import RandomForestClassifier\n",
    "from imblearn.over_sampling import RandomOverSampler\n",
    "from tensorflow.keras.models import Sequential\n",
    "from tensorflow.keras.layers import Dense, Dropout\n",
    "from tensorflow.keras.regularizers import l2 as l2_keras\n",
    "from tensorflow.keras.optimizers import Adam\n",
    "from sklearn import svm , datasets\n",
    "from imblearn.over_sampling import SMOTE\n",
    "from imblearn.under_sampling import RandomUnderSampler\n",
    "from imblearn.pipeline import Pipeline\n",
    "from collections import Counter\n",
    "from sklearn.neighbors import KNeighborsClassifier\n",
    "from xgboost import XGBClassifier\n",
    "from sklearn.impute import SimpleImputer\n",
    "from sklearn.utils import resample"
   ]
  },
  {
   "cell_type": "code",
   "execution_count": 101,
   "id": "5c2ee43f",
   "metadata": {},
   "outputs": [
    {
     "name": "stdout",
     "output_type": "stream",
     "text": [
      "<class 'pandas.core.frame.DataFrame'>\n",
      "RangeIndex: 4240 entries, 0 to 4239\n",
      "Data columns (total 15 columns):\n",
      " #   Column           Non-Null Count  Dtype  \n",
      "---  ------           --------------  -----  \n",
      " 0   sex              4240 non-null   int64  \n",
      " 1   age              4240 non-null   int64  \n",
      " 2   Smoker           4240 non-null   int64  \n",
      " 3   CigsPerDay       4211 non-null   float64\n",
      " 4   BPMeds           4187 non-null   float64\n",
      " 5   PrevalentStroke  4240 non-null   int64  \n",
      " 6   PrevalentHyp     4240 non-null   int64  \n",
      " 7   Diabetes         4240 non-null   int64  \n",
      " 8   Cholesterol      4190 non-null   float64\n",
      " 9   sysBP            4240 non-null   float64\n",
      " 10  diaBP            4240 non-null   float64\n",
      " 11  BMI              4221 non-null   float64\n",
      " 12  HeartRate        4239 non-null   float64\n",
      " 13  Glucose          3852 non-null   float64\n",
      " 14  target           4240 non-null   int64  \n",
      "dtypes: float64(8), int64(7)\n",
      "memory usage: 497.0 KB\n",
      "None\n"
     ]
    },
    {
     "data": {
      "text/html": [
       "<div>\n",
       "<style scoped>\n",
       "    .dataframe tbody tr th:only-of-type {\n",
       "        vertical-align: middle;\n",
       "    }\n",
       "\n",
       "    .dataframe tbody tr th {\n",
       "        vertical-align: top;\n",
       "    }\n",
       "\n",
       "    .dataframe thead th {\n",
       "        text-align: right;\n",
       "    }\n",
       "</style>\n",
       "<table border=\"1\" class=\"dataframe\">\n",
       "  <thead>\n",
       "    <tr style=\"text-align: right;\">\n",
       "      <th></th>\n",
       "      <th>sex</th>\n",
       "      <th>age</th>\n",
       "      <th>Smoker</th>\n",
       "      <th>CigsPerDay</th>\n",
       "      <th>BPMeds</th>\n",
       "      <th>PrevalentStroke</th>\n",
       "      <th>PrevalentHyp</th>\n",
       "      <th>Diabetes</th>\n",
       "      <th>Cholesterol</th>\n",
       "      <th>sysBP</th>\n",
       "      <th>diaBP</th>\n",
       "      <th>BMI</th>\n",
       "      <th>HeartRate</th>\n",
       "      <th>Glucose</th>\n",
       "      <th>target</th>\n",
       "    </tr>\n",
       "  </thead>\n",
       "  <tbody>\n",
       "    <tr>\n",
       "      <th>0</th>\n",
       "      <td>1</td>\n",
       "      <td>39</td>\n",
       "      <td>0</td>\n",
       "      <td>0.0</td>\n",
       "      <td>0.0</td>\n",
       "      <td>0</td>\n",
       "      <td>0</td>\n",
       "      <td>0</td>\n",
       "      <td>195.0</td>\n",
       "      <td>106.0</td>\n",
       "      <td>70.0</td>\n",
       "      <td>26.97</td>\n",
       "      <td>80.0</td>\n",
       "      <td>77.0</td>\n",
       "      <td>0</td>\n",
       "    </tr>\n",
       "    <tr>\n",
       "      <th>1</th>\n",
       "      <td>0</td>\n",
       "      <td>46</td>\n",
       "      <td>0</td>\n",
       "      <td>0.0</td>\n",
       "      <td>0.0</td>\n",
       "      <td>0</td>\n",
       "      <td>0</td>\n",
       "      <td>0</td>\n",
       "      <td>250.0</td>\n",
       "      <td>121.0</td>\n",
       "      <td>81.0</td>\n",
       "      <td>28.73</td>\n",
       "      <td>95.0</td>\n",
       "      <td>76.0</td>\n",
       "      <td>0</td>\n",
       "    </tr>\n",
       "    <tr>\n",
       "      <th>2</th>\n",
       "      <td>1</td>\n",
       "      <td>48</td>\n",
       "      <td>1</td>\n",
       "      <td>20.0</td>\n",
       "      <td>0.0</td>\n",
       "      <td>0</td>\n",
       "      <td>0</td>\n",
       "      <td>0</td>\n",
       "      <td>245.0</td>\n",
       "      <td>127.5</td>\n",
       "      <td>80.0</td>\n",
       "      <td>25.34</td>\n",
       "      <td>75.0</td>\n",
       "      <td>70.0</td>\n",
       "      <td>0</td>\n",
       "    </tr>\n",
       "    <tr>\n",
       "      <th>3</th>\n",
       "      <td>0</td>\n",
       "      <td>61</td>\n",
       "      <td>1</td>\n",
       "      <td>30.0</td>\n",
       "      <td>0.0</td>\n",
       "      <td>0</td>\n",
       "      <td>1</td>\n",
       "      <td>0</td>\n",
       "      <td>225.0</td>\n",
       "      <td>150.0</td>\n",
       "      <td>95.0</td>\n",
       "      <td>28.58</td>\n",
       "      <td>65.0</td>\n",
       "      <td>103.0</td>\n",
       "      <td>1</td>\n",
       "    </tr>\n",
       "    <tr>\n",
       "      <th>4</th>\n",
       "      <td>0</td>\n",
       "      <td>46</td>\n",
       "      <td>1</td>\n",
       "      <td>23.0</td>\n",
       "      <td>0.0</td>\n",
       "      <td>0</td>\n",
       "      <td>0</td>\n",
       "      <td>0</td>\n",
       "      <td>285.0</td>\n",
       "      <td>130.0</td>\n",
       "      <td>84.0</td>\n",
       "      <td>23.10</td>\n",
       "      <td>85.0</td>\n",
       "      <td>85.0</td>\n",
       "      <td>0</td>\n",
       "    </tr>\n",
       "    <tr>\n",
       "      <th>...</th>\n",
       "      <td>...</td>\n",
       "      <td>...</td>\n",
       "      <td>...</td>\n",
       "      <td>...</td>\n",
       "      <td>...</td>\n",
       "      <td>...</td>\n",
       "      <td>...</td>\n",
       "      <td>...</td>\n",
       "      <td>...</td>\n",
       "      <td>...</td>\n",
       "      <td>...</td>\n",
       "      <td>...</td>\n",
       "      <td>...</td>\n",
       "      <td>...</td>\n",
       "      <td>...</td>\n",
       "    </tr>\n",
       "    <tr>\n",
       "      <th>4235</th>\n",
       "      <td>0</td>\n",
       "      <td>48</td>\n",
       "      <td>1</td>\n",
       "      <td>20.0</td>\n",
       "      <td>NaN</td>\n",
       "      <td>0</td>\n",
       "      <td>0</td>\n",
       "      <td>0</td>\n",
       "      <td>248.0</td>\n",
       "      <td>131.0</td>\n",
       "      <td>72.0</td>\n",
       "      <td>22.00</td>\n",
       "      <td>84.0</td>\n",
       "      <td>86.0</td>\n",
       "      <td>0</td>\n",
       "    </tr>\n",
       "    <tr>\n",
       "      <th>4236</th>\n",
       "      <td>0</td>\n",
       "      <td>44</td>\n",
       "      <td>1</td>\n",
       "      <td>15.0</td>\n",
       "      <td>0.0</td>\n",
       "      <td>0</td>\n",
       "      <td>0</td>\n",
       "      <td>0</td>\n",
       "      <td>210.0</td>\n",
       "      <td>126.5</td>\n",
       "      <td>87.0</td>\n",
       "      <td>19.16</td>\n",
       "      <td>86.0</td>\n",
       "      <td>NaN</td>\n",
       "      <td>0</td>\n",
       "    </tr>\n",
       "    <tr>\n",
       "      <th>4237</th>\n",
       "      <td>0</td>\n",
       "      <td>52</td>\n",
       "      <td>0</td>\n",
       "      <td>0.0</td>\n",
       "      <td>0.0</td>\n",
       "      <td>0</td>\n",
       "      <td>0</td>\n",
       "      <td>0</td>\n",
       "      <td>269.0</td>\n",
       "      <td>133.5</td>\n",
       "      <td>83.0</td>\n",
       "      <td>21.47</td>\n",
       "      <td>80.0</td>\n",
       "      <td>107.0</td>\n",
       "      <td>0</td>\n",
       "    </tr>\n",
       "    <tr>\n",
       "      <th>4238</th>\n",
       "      <td>1</td>\n",
       "      <td>40</td>\n",
       "      <td>0</td>\n",
       "      <td>0.0</td>\n",
       "      <td>0.0</td>\n",
       "      <td>0</td>\n",
       "      <td>1</td>\n",
       "      <td>0</td>\n",
       "      <td>185.0</td>\n",
       "      <td>141.0</td>\n",
       "      <td>98.0</td>\n",
       "      <td>25.60</td>\n",
       "      <td>67.0</td>\n",
       "      <td>72.0</td>\n",
       "      <td>0</td>\n",
       "    </tr>\n",
       "    <tr>\n",
       "      <th>4239</th>\n",
       "      <td>0</td>\n",
       "      <td>39</td>\n",
       "      <td>1</td>\n",
       "      <td>30.0</td>\n",
       "      <td>0.0</td>\n",
       "      <td>0</td>\n",
       "      <td>0</td>\n",
       "      <td>0</td>\n",
       "      <td>196.0</td>\n",
       "      <td>133.0</td>\n",
       "      <td>86.0</td>\n",
       "      <td>20.91</td>\n",
       "      <td>85.0</td>\n",
       "      <td>80.0</td>\n",
       "      <td>0</td>\n",
       "    </tr>\n",
       "  </tbody>\n",
       "</table>\n",
       "<p>4240 rows × 15 columns</p>\n",
       "</div>"
      ],
      "text/plain": [
       "      sex  age  Smoker  CigsPerDay  BPMeds  PrevalentStroke  PrevalentHyp  \\\n",
       "0       1   39       0         0.0     0.0                0             0   \n",
       "1       0   46       0         0.0     0.0                0             0   \n",
       "2       1   48       1        20.0     0.0                0             0   \n",
       "3       0   61       1        30.0     0.0                0             1   \n",
       "4       0   46       1        23.0     0.0                0             0   \n",
       "...   ...  ...     ...         ...     ...              ...           ...   \n",
       "4235    0   48       1        20.0     NaN                0             0   \n",
       "4236    0   44       1        15.0     0.0                0             0   \n",
       "4237    0   52       0         0.0     0.0                0             0   \n",
       "4238    1   40       0         0.0     0.0                0             1   \n",
       "4239    0   39       1        30.0     0.0                0             0   \n",
       "\n",
       "      Diabetes  Cholesterol  sysBP  diaBP    BMI  HeartRate  Glucose  target  \n",
       "0            0        195.0  106.0   70.0  26.97       80.0     77.0       0  \n",
       "1            0        250.0  121.0   81.0  28.73       95.0     76.0       0  \n",
       "2            0        245.0  127.5   80.0  25.34       75.0     70.0       0  \n",
       "3            0        225.0  150.0   95.0  28.58       65.0    103.0       1  \n",
       "4            0        285.0  130.0   84.0  23.10       85.0     85.0       0  \n",
       "...        ...          ...    ...    ...    ...        ...      ...     ...  \n",
       "4235         0        248.0  131.0   72.0  22.00       84.0     86.0       0  \n",
       "4236         0        210.0  126.5   87.0  19.16       86.0      NaN       0  \n",
       "4237         0        269.0  133.5   83.0  21.47       80.0    107.0       0  \n",
       "4238         0        185.0  141.0   98.0  25.60       67.0     72.0       0  \n",
       "4239         0        196.0  133.0   86.0  20.91       85.0     80.0       0  \n",
       "\n",
       "[4240 rows x 15 columns]"
      ]
     },
     "execution_count": 101,
     "metadata": {},
     "output_type": "execute_result"
    }
   ],
   "source": [
    "df = pd.read_csv('D:\\\\CS Materials\\\\Project\\\\PData\\\\Data.csv')\n",
    "dataName = 'D:\\\\CS Materials\\\\Project\\\\PData\\\\Data.csv'\n",
    "print(df.info())\n",
    "df"
   ]
  },
  {
   "cell_type": "code",
   "execution_count": 102,
   "id": "1eae016b",
   "metadata": {},
   "outputs": [
    {
     "name": "stdout",
     "output_type": "stream",
     "text": [
      "\n",
      "Missing data:\n",
      "sex                  0\n",
      "age                  0\n",
      "Smoker               0\n",
      "CigsPerDay          29\n",
      "BPMeds              53\n",
      "PrevalentStroke      0\n",
      "PrevalentHyp         0\n",
      "Diabetes             0\n",
      "Cholesterol         50\n",
      "sysBP                0\n",
      "diaBP                0\n",
      "BMI                 19\n",
      "HeartRate            1\n",
      "Glucose            388\n",
      "target               0\n",
      "dtype: int64\n",
      "The total percentage of missing data is 12.74%\n"
     ]
    }
   ],
   "source": [
    "missing_data=df.isnull().sum()\n",
    "print(\"\\nMissing data:\")\n",
    "print(missing_data)\n",
    "total_percentage=(missing_data.sum()/df.shape[0])*100\n",
    "print(f\"The total percentage of missing data is {round(total_percentage,2)}%\")"
   ]
  },
  {
   "cell_type": "code",
   "execution_count": 103,
   "id": "f5777df7",
   "metadata": {},
   "outputs": [],
   "source": [
    "# Handling missing values using imputation strategies\n",
    "mean_imputer = SimpleImputer(strategy='mean')\n",
    "mean_cols = ['HeartRate']\n",
    "df[mean_cols] = mean_imputer.fit_transform(df[mean_cols])\n",
    "\n",
    "median_imputer = SimpleImputer(strategy='median')\n",
    "median_cols = [ 'CigsPerDay', 'BPMeds', 'Cholesterol', 'BMI', 'Glucose']\n",
    "df[median_cols] = median_imputer.fit_transform(df[median_cols])\n"
   ]
  },
  {
   "cell_type": "code",
   "execution_count": 104,
   "id": "e896c0eb",
   "metadata": {},
   "outputs": [],
   "source": [
    "# Handling outliers using the IQR method\n",
    "def handle_outliers_with_IQR(data, column):\n",
    "    Q1 = data[column].quantile(0.25)\n",
    "    Q3 = data[column].quantile(0.75)\n",
    "    IQR = Q3 - Q1\n",
    "    lower_bound = Q1 - 1.5 * IQR\n",
    "    upper_bound = Q3 + 1.5 * IQR\n",
    "    data[column] = data[column].clip(lower=lower_bound, upper=upper_bound)\n",
    "\n",
    "continuous_cols = ['age', 'CigsPerDay', 'Cholesterol', 'sysBP', 'diaBP', 'BMI', 'HeartRate', 'Glucose']\n",
    "for col in continuous_cols:\n",
    "    handle_outliers_with_IQR(df, col)\n"
   ]
  },
  {
   "cell_type": "code",
   "execution_count": 105,
   "id": "e01ba4ad",
   "metadata": {},
   "outputs": [
    {
     "data": {
      "text/plain": [
       "(4240, 15)"
      ]
     },
     "execution_count": 105,
     "metadata": {},
     "output_type": "execute_result"
    }
   ],
   "source": [
    "df.head()\n",
    "df.columns\n",
    "df.isnull().sum()\n",
    "df.shape"
   ]
  },
  {
   "cell_type": "code",
   "execution_count": 106,
   "id": "16ae7191",
   "metadata": {},
   "outputs": [],
   "source": [
    "target_column = 'target'\n",
    "class_counts_before = df[target_column].value_counts()"
   ]
  },
  {
   "cell_type": "code",
   "execution_count": 107,
   "id": "84a9d554",
   "metadata": {},
   "outputs": [],
   "source": [
    "categorical_features=['sex','Smoker','BPMeds','PrevalentStroke','PrevalentHyp','Diabetes']"
   ]
  },
  {
   "cell_type": "code",
   "execution_count": 108,
   "id": "43a57ad4",
   "metadata": {},
   "outputs": [
    {
     "name": "stdout",
     "output_type": "stream",
     "text": [
      "sex :\n",
      "sex\n",
      "0    2420\n",
      "1    1820\n",
      "Name: count, dtype: int64\n",
      "------------------\n",
      "Smoker :\n",
      "Smoker\n",
      "0    2145\n",
      "1    2095\n",
      "Name: count, dtype: int64\n",
      "------------------\n",
      "BPMeds :\n",
      "BPMeds\n",
      "0.0    4116\n",
      "1.0     124\n",
      "Name: count, dtype: int64\n",
      "------------------\n",
      "PrevalentStroke :\n",
      "PrevalentStroke\n",
      "0    4215\n",
      "1      25\n",
      "Name: count, dtype: int64\n",
      "------------------\n",
      "PrevalentHyp :\n",
      "PrevalentHyp\n",
      "0    2923\n",
      "1    1317\n",
      "Name: count, dtype: int64\n",
      "------------------\n",
      "Diabetes :\n",
      "Diabetes\n",
      "0    4131\n",
      "1     109\n",
      "Name: count, dtype: int64\n",
      "------------------\n"
     ]
    }
   ],
   "source": [
    "for feature in categorical_features:\n",
    "  print(feature,\":\")\n",
    "  print(df[feature].value_counts())\n",
    "  print(\"------------------\")"
   ]
  },
  {
   "cell_type": "code",
   "execution_count": 109,
   "id": "d187a5c5",
   "metadata": {},
   "outputs": [],
   "source": [
    "# Upsampling the minority class\n",
    "data_majority = df[df[target_column] == 0]\n",
    "data_minority = df[df[target_column] == 1]\n",
    "data_minority_upsampled = resample(data_minority, replace=True, n_samples=len(data_majority), random_state=123)\n",
    "data_upsampled = pd.concat([data_majority, data_minority_upsampled])"
   ]
  },
  {
   "cell_type": "code",
   "execution_count": 110,
   "id": "04b687b2",
   "metadata": {},
   "outputs": [],
   "source": [
    "# Splitting the dataset into features and target variable\n",
    "X = data_upsampled.drop(target_column, axis=1)\n",
    "y = data_upsampled[target_column]"
   ]
  },
  {
   "cell_type": "code",
   "execution_count": 111,
   "id": "e80c1318",
   "metadata": {},
   "outputs": [],
   "source": [
    "# Splitting the data into training and test sets\n",
    "X_train, X_test, y_train, y_test = train_test_split(X, y, test_size=0.2, random_state=42)\n",
    "\n",
    "# Initialize the XGBoost classifier\n",
    "xgb_classifier = XGBClassifier(random_state=42)\n",
    "\n",
    "# Train the model\n",
    "xgb_classifier.fit(X_train, y_train)\n",
    "\n",
    "# Make predictions on the test set\n",
    "y_pred = xgb_classifier.predict(X_test)"
   ]
  },
  {
   "cell_type": "code",
   "execution_count": 112,
   "id": "2d101974",
   "metadata": {},
   "outputs": [
    {
     "name": "stdout",
     "output_type": "stream",
     "text": [
      "              precision    recall  f1-score   support\n",
      "\n",
      "           0       0.98      0.86      0.92       735\n",
      "           1       0.87      0.98      0.93       704\n",
      "\n",
      "    accuracy                           0.92      1439\n",
      "   macro avg       0.93      0.92      0.92      1439\n",
      "weighted avg       0.93      0.92      0.92      1439\n",
      "\n"
     ]
    }
   ],
   "source": [
    "# Evaluate the model\n",
    "accuracy = accuracy_score(y_test, y_pred)\n",
    "print(classification_report(y_test, y_pred))\n",
    "\n",
    "y_pred = xgb_classifier.predict(X_test)"
   ]
  },
  {
   "cell_type": "code",
   "execution_count": 113,
   "id": "72c1cb0c",
   "metadata": {},
   "outputs": [
    {
     "name": "stdout",
     "output_type": "stream",
     "text": [
      "Using XGB we get an accuracy of 92.22%\n"
     ]
    }
   ],
   "source": [
    "#accuracy\n",
    "accuracy = accuracy_score(y_test,y_pred)\n",
    "print(f\"Using XGB we get an accuracy of {round(accuracy*100,2)}%\")"
   ]
  },
  {
   "cell_type": "code",
   "execution_count": 114,
   "id": "25ad8692",
   "metadata": {
    "scrolled": true
   },
   "outputs": [
    {
     "data": {
      "text/plain": [
       "<Axes: >"
      ]
     },
     "execution_count": 114,
     "metadata": {},
     "output_type": "execute_result"
    },
    {
     "data": {
      "image/png": "[encoded data removed]",
      "text/plain": [
       "<Figure size 800x500 with 2 Axes>"
      ]
     },
     "metadata": {},
     "output_type": "display_data"
    }
   ],
   "source": [
    "cm=confusion_matrix(y_test,y_pred)\n",
    "conf_matrix=pd.DataFrame(data=cm,columns=['Predicted:0','Predicted:1'],index=['Actual:0','Actual:1'])\n",
    "plt.figure(figsize = (8,5))\n",
    "sns.heatmap(conf_matrix, annot=True,fmt='d',cmap=\"YlGnBu\")"
   ]
  },
  {
   "cell_type": "code",
   "execution_count": 115,
   "id": "d4c99bf9",
   "metadata": {},
   "outputs": [
    {
     "name": "stdout",
     "output_type": "stream",
     "text": [
      "              precision    recall  f1-score   support\n",
      "\n",
      "           0       0.98      0.86      0.92       735\n",
      "           1       0.87      0.98      0.93       704\n",
      "\n",
      "    accuracy                           0.92      1439\n",
      "   macro avg       0.93      0.92      0.92      1439\n",
      "weighted avg       0.93      0.92      0.92      1439\n",
      "\n",
      "{'Accuracy': 0.9221681723419041, 'Precision': 0.8727959697732998, 'Recall': 0.984375, 'F1-score': 0.9252336448598131}\n",
      "===========================================================================\n",
      "{'Accuracy': 92.22, 'Precision': 87.28, 'Recall': 98.44, 'F1-score': 92.52}\n"
     ]
    }
   ],
   "source": [
    "# Calculate metrics\n",
    "report = classification_report(y_test, y_pred, output_dict=True)\n",
    "accuracy = report['accuracy']\n",
    "precision = report['1']['precision']\n",
    "recall = report['1']['recall']\n",
    "f1_score = report['1']['f1-score']\n",
    "\n",
    "# Print the classification report\n",
    "print(classification_report(y_test, y_pred))\n",
    "\n",
    "# Store the metrics for the XGBoost model\n",
    "xgb_metrics = {\n",
    "    'Accuracy': accuracy,\n",
    "    'Precision': precision,\n",
    "    'Recall': recall,\n",
    "    'F1-score': f1_score\n",
    "}\n",
    "print(xgb_metrics)\n",
    "print (\"===========================================================================\")\n",
    "xgb_metrics = {\n",
    "    'Accuracy': round(accuracy*100,2),\n",
    "    'Precision': round(precision*100,2),\n",
    "    'Recall': round(recall*100,2),\n",
    "    'F1-score': round(f1_score*100,2)\n",
    "}\n",
    "print(xgb_metrics)"
   ]
  },
  {
   "cell_type": "code",
   "execution_count": 116,
   "id": "946280dc",
   "metadata": {},
   "outputs": [
    {
     "name": "stdout",
     "output_type": "stream",
     "text": [
      "New Data Predictions: [1]\n"
     ]
    }
   ],
   "source": [
    "# Define the new data with correct formatting and including column names\n",
    "new_data = np.array([[0,61,1,30,0,0,1,0,225,150,95,28.58,65,103]])\n",
    "\n",
    "# Make predictions on the new data\n",
    "new_pred = xgb_classifier.predict(new_data)\n",
    "\n",
    "print(\"New Data Predictions:\", new_pred)\n"
   ]
  },
  {
   "cell_type": "code",
   "execution_count": 117,
   "id": "23358838",
   "metadata": {},
   "outputs": [
    {
     "name": "stdout",
     "output_type": "stream",
     "text": [
      "New Data Predictions: [1]\n"
     ]
    }
   ],
   "source": [
    "# Create a DataFrame with sample input data\n",
    "sample_data = pd.DataFrame({\n",
    "    'sex': [0],               # 1 for male, 0 for female\n",
    "    'age': [44],              # Age of the individual\n",
    "    'Smoker': [0],            # 1 for smoker, 0 for non-smoker\n",
    "    'CigsPerDay': [0],        # Number of cigarettes per day for smokers\n",
    "    'BPMeds': [0],            # 1 if taking blood pressure medications, 0 otherwise\n",
    "    'PrevalentStroke': [0],   # 1 if the individual had a prevalent stroke, 0 otherwise\n",
    "    'PrevalentHyp': [0],      # 1 if the individual has prevalent hypertension, 0 otherwise\n",
    "    'Diabetes': [0],          # 1 if the individual has diabetes, 0 otherwise\n",
    "    'Cholesterol': [229],     # Cholesterol level\n",
    "    'sysBP': [119],           # Systolic blood pressure\n",
    "    'diaBP': [75.5],          # Diastolic blood pressure\n",
    "    'BMI': [25.09],           # Body Mass Index (BMI)\n",
    "    'HeartRate': [70],        # Heart rate\n",
    "    'Glucose': [88]  # Glucose level\n",
    "})\n",
    "\n",
    "# Make predictions on the new data\n",
    "new_pred = xgb_classifier.predict(sample_data)\n",
    "print(\"New Data Predictions:\", new_pred)"
   ]
  }
 ],
 "metadata": {
  "kernelspec": {
   "display_name": "Python 3 (ipykernel)",
   "language": "python",
   "name": "python3"
  },
  "language_info": {
   "codemirror_mode": {
    "name": "ipython",
    "version": 3
   },
   "file_extension": ".py",
   "mimetype": "text/x-python",
   "name": "python",
   "nbconvert_exporter": "python",
   "pygments_lexer": "ipython3",
   "version": "3.11.5"
  }
 },
 "nbformat": 4,
 "nbformat_minor": 5
}
